{
  "nbformat": 4,
  "nbformat_minor": 0,
  "metadata": {
    "colab": {
      "provenance": [],
      "authorship_tag": "ABX9TyOBudL45cG9HPzJEX7VGe/I",
      "include_colab_link": true
    },
    "kernelspec": {
      "name": "python3",
      "display_name": "Python 3"
    },
    "language_info": {
      "name": "python"
    }
  },
  "cells": [
    {
      "cell_type": "markdown",
      "metadata": {
        "id": "view-in-github",
        "colab_type": "text"
      },
      "source": [
        "<a href=\"https://colab.research.google.com/github/ahmed2fathy/AndroidTutorialForBeginners/blob/master/test2.ipynb\" target=\"_parent\"><img src=\"https://colab.research.google.com/assets/colab-badge.svg\" alt=\"Open In Colab\"/></a>"
      ]
    },
    {
      "cell_type": "markdown",
      "source": [
        "cours elsafy hegazy"
      ],
      "metadata": {
        "id": "9f_cSk6bBSGx"
      }
    },
    {
      "cell_type": "markdown",
      "source": [
        "strings"
      ],
      "metadata": {
        "id": "VUd9MbUZv7G2"
      }
    },
    {
      "cell_type": "code",
      "source": [
        "names = ['ahmed','hamza', 'fathy' ]\n",
        "\n",
        "names.pop(0)\n",
        "\n",
        "print(names)\n",
        "\n",
        "\n"
      ],
      "metadata": {
        "colab": {
          "base_uri": "https://localhost:8080/"
        },
        "id": "zi6cRW3hv9cS",
        "outputId": "55e3105f-058a-40ff-e56e-72c1834fd962"
      },
      "execution_count": 28,
      "outputs": [
        {
          "output_type": "stream",
          "name": "stdout",
          "text": [
            "['hamza', 'fathy']\n"
          ]
        }
      ]
    },
    {
      "cell_type": "markdown",
      "source": [
        "while loop"
      ],
      "metadata": {
        "id": "zlb-5MGxg1Bh"
      }
    },
    {
      "cell_type": "code",
      "execution_count": null,
      "metadata": {
        "id": "Sptw292adlfh"
      },
      "outputs": [],
      "source": [
        "counter = 0\n",
        "while 1 == 1:\n",
        "  print(\"hello\")\n",
        "  counter  = counter + 1\n",
        "  print(counter)\n",
        "  if counter == 20:\n",
        "    break\n",
        "    print('done')\n"
      ]
    },
    {
      "cell_type": "markdown",
      "source": [
        "conditional statements"
      ],
      "metadata": {
        "id": "pxz_FLnjCqrL"
      }
    },
    {
      "cell_type": "code",
      "source": [
        "age = int(input('enter your name'))\n",
        "\n",
        "if age > 18:\n",
        "  print('you are adult')\n",
        "elif age == 18:\n",
        "  print('you are 18')\n",
        "else:\n",
        "  print('you are not adult')"
      ],
      "metadata": {
        "id": "yvAU_xlKDFlv"
      },
      "execution_count": null,
      "outputs": []
    },
    {
      "cell_type": "markdown",
      "source": [
        "for loop"
      ],
      "metadata": {
        "id": "5Lb9Yi9zg5n1"
      }
    },
    {
      "cell_type": "code",
      "source": [
        "names = ['ahmed', 'hamza', 'fathy']\n",
        "for item in names:\n",
        "  print(item)\n",
        "name = [item for item in names]\n",
        "print(name)"
      ],
      "metadata": {
        "id": "Qh_jGfXsg4xB"
      },
      "execution_count": null,
      "outputs": []
    },
    {
      "cell_type": "markdown",
      "source": [
        "exception"
      ],
      "metadata": {
        "id": "-CWze9GSk14n"
      }
    },
    {
      "cell_type": "code",
      "source": [
        "try:\n",
        "  print(1/0)\n",
        "except :\n",
        "  print('error')\n",
        "finally: # تنفذ دائما وفي كل الحالات\n",
        "  print('ok')"
      ],
      "metadata": {
        "id": "1hpJcaFlk-s2"
      },
      "execution_count": null,
      "outputs": []
    },
    {
      "cell_type": "markdown",
      "source": [
        "packages"
      ],
      "metadata": {
        "id": "gV-Hv0dImSzH"
      }
    },
    {
      "cell_type": "code",
      "source": [
        "pip install arabic_reshaper\n",
        "from arabic_reshaper import reshape"
      ],
      "metadata": {
        "id": "XzNcD4Vhmcdm"
      },
      "execution_count": null,
      "outputs": []
    },
    {
      "cell_type": "code",
      "source": [
        "pip install python-bidi\n",
        "from bidi.algorithm import get_display"
      ],
      "metadata": {
        "id": "Z45-hYLWoG83"
      },
      "execution_count": null,
      "outputs": []
    },
    {
      "cell_type": "markdown",
      "source": [
        "function"
      ],
      "metadata": {
        "id": "MUG00jFQpq2R"
      }
    },
    {
      "cell_type": "code",
      "source": [
        "def sum():\n",
        "  x = 1\n",
        "  y = 2\n",
        "  return x + y\n",
        "sum()"
      ],
      "metadata": {
        "colab": {
          "base_uri": "https://localhost:8080/"
        },
        "id": "Di9M1UV2oT4l",
        "outputId": "c20179b3-1723-4458-cb94-9b3cc99997dc"
      },
      "execution_count": 39,
      "outputs": [
        {
          "output_type": "execute_result",
          "data": {
            "text/plain": [
              "3"
            ]
          },
          "metadata": {},
          "execution_count": 39
        }
      ]
    },
    {
      "cell_type": "code",
      "source": [
        "def sum(x, y, n, u):\n",
        "  return x + y + n + u\n",
        "sum(1,2,3,5)"
      ],
      "metadata": {
        "colab": {
          "base_uri": "https://localhost:8080/"
        },
        "id": "UuflFEEiqmmc",
        "outputId": "b63e1dc3-a6af-4451-8973-e185c5ac9d47"
      },
      "execution_count": 46,
      "outputs": [
        {
          "output_type": "execute_result",
          "data": {
            "text/plain": [
              "11"
            ]
          },
          "metadata": {},
          "execution_count": 46
        }
      ]
    },
    {
      "cell_type": "code",
      "source": [
        "from sys import setrecursionlimit, getrecursionlimit\n",
        "print(getrecursionlimit())\n",
        "setrecursionlimit(10000)\n",
        "\n",
        "counter = 0\n",
        "def app():\n",
        "  global counter\n",
        "  print(f'hello {counter}')\n",
        "\n",
        "  counter = counter + 1\n",
        "  if counter == 1000:\n",
        "    return\n",
        "  app()\n",
        "\n",
        "app()"
      ],
      "metadata": {
        "id": "bOi3RRkCsLUL"
      },
      "execution_count": null,
      "outputs": []
    },
    {
      "cell_type": "code",
      "source": [],
      "metadata": {
        "id": "2yYIGSd6vZv1"
      },
      "execution_count": null,
      "outputs": []
    }
  ]
}